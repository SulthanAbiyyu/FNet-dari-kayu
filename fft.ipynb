{
 "cells": [
  {
   "cell_type": "code",
   "execution_count": null,
   "metadata": {},
   "outputs": [],
   "source": [
    "import torch"
   ]
  },
  {
   "cell_type": "code",
   "execution_count": 27,
   "metadata": {},
   "outputs": [
    {
     "data": {
      "text/plain": [
       "tensor([[-1.1779, -0.9563,  1.1464, -2.5526, -1.0167, -1.0604,  0.9737,  0.8680],\n",
       "        [-1.2149, -0.5869,  1.6774, -0.9124, -0.1238,  1.3656,  1.6026, -0.4821],\n",
       "        [-0.3498, -1.0263,  0.7081, -1.5618, -0.2861,  0.0101,  0.0827,  0.1629]])"
      ]
     },
     "execution_count": 27,
     "metadata": {},
     "output_type": "execute_result"
    }
   ],
   "source": [
    "x = torch.randn(3, 8)\n",
    "x"
   ]
  },
  {
   "cell_type": "code",
   "execution_count": 30,
   "metadata": {},
   "outputs": [],
   "source": [
    "def fft(x):\n",
    "    X_k = torch.zeros_like(x, dtype=torch.complex64)\n",
    "    N = x.shape[-1]\n",
    "    for k in range(N):\n",
    "        for n in range(N):\n",
    "            X_k[:, k] += x[:, n] * torch.exp(torch.tensor(-2j * torch.pi * k * n / N))\n",
    "    return X_k\n",
    "\n",
    "X_k = fft(x)\n",
    "X_k_torch = torch.fft.fft(x)\n",
    "\n",
    "assert torch.allclose(X_k, X_k_torch)"
   ]
  }
 ],
 "metadata": {
  "kernelspec": {
   "display_name": "DataScience",
   "language": "python",
   "name": "python3"
  },
  "language_info": {
   "codemirror_mode": {
    "name": "ipython",
    "version": 3
   },
   "file_extension": ".py",
   "mimetype": "text/x-python",
   "name": "python",
   "nbconvert_exporter": "python",
   "pygments_lexer": "ipython3",
   "version": "3.9.6"
  },
  "orig_nbformat": 4,
  "vscode": {
   "interpreter": {
    "hash": "d3120404ab40088dde46363bad1bdd78d1aeca7b6f18e79999fc72cb3d9151a5"
   }
  }
 },
 "nbformat": 4,
 "nbformat_minor": 2
}
